{
 "cells": [
  {
   "cell_type": "code",
   "execution_count": 11,
   "metadata": {},
   "outputs": [],
   "source": [
    "import numpy as np"
   ]
  },
  {
   "attachments": {},
   "cell_type": "markdown",
   "metadata": {},
   "source": [
    "Import the dataset downloaded from source:"
   ]
  },
  {
   "cell_type": "code",
   "execution_count": 12,
   "metadata": {},
   "outputs": [],
   "source": [
    "def unpickle(file):\n",
    "    import pickle\n",
    "    with open(file, 'rb') as fo:\n",
    "        dict = pickle.load(fo, encoding='bytes')\n",
    "    return dict"
   ]
  },
  {
   "cell_type": "code",
   "execution_count": 13,
   "metadata": {},
   "outputs": [],
   "source": [
    "#List of train data files:\n",
    "data_batches = ['data_batch_1','data_batch_2','data_batch_3','data_batch_4','data_batch_5',]\n",
    "#Unpickling every batch in the list:\n",
    "train_data_dicts = [unpickle(batch) for batch in data_batches]\n",
    "#Unpickling test data file:\n",
    "test_data_dict = unpickle('test_batch')\n",
    "#Unpickling label names file:\n",
    "label_names_dicts = unpickle('batches.meta')\n",
    "label_names = [str(label, 'utf-8') for label in label_names_dicts[b'label_names']]"
   ]
  },
  {
   "cell_type": "code",
   "execution_count": 14,
   "metadata": {},
   "outputs": [
    {
     "name": "stdout",
     "output_type": "stream",
     "text": [
      "(50000, 32, 32, 3) (50000,) (10000, 32, 32, 3) (10000,)\n"
     ]
    }
   ],
   "source": [
    "#Group batches and define train data:\n",
    "x_train = np.empty(shape=(0,3072),dtype=np.uint8)\n",
    "y_train = []\n",
    "for dict in train_data_dicts:\n",
    "    x_train = np.append(x_train, dict[b'data'], axis = 0)\n",
    "    y_train += dict[b'labels']\n",
    "y_train = np.asarray(y_train)\n",
    "\n",
    "#Define test data:\n",
    "x_test = np.array(test_data_dict[b'data'])\n",
    "y_test = np.array(test_data_dict[b'labels'])\n",
    "\n",
    "#Convert x to image format:\n",
    "x_train = x_train.reshape(50000,3,32,32).transpose(0,2,3,1)\n",
    "x_test = x_test.reshape(10000,3,32,32).transpose(0,2,3,1)\n",
    "\n",
    "print(x_train.shape, y_train.shape, x_test.shape, y_test.shape)\n"
   ]
  },
  {
   "cell_type": "code",
   "execution_count": 15,
   "metadata": {},
   "outputs": [],
   "source": [
    "#function to plot 6 random images:\n",
    "def plot_6(x=x_test,y=y_test,y_hat=None):\n",
    "    import matplotlib.pyplot as plt\n",
    "    fig, ax = plt.subplots(2,3)\n",
    "    i_list = np.random.randint(low=0, high=10000, size = 6) #generate list of random indices\n",
    "    i=0\n",
    "    for row in ax:\n",
    "        for col in row:\n",
    "            col.axis('off')\n",
    "            #get image:\n",
    "            img = x[i_list[i]][:16,:,:]\n",
    "            col.imshow(img)\n",
    "            #get label:\n",
    "            label_no = y[i_list[i]]\n",
    "            label = label_names[label_no]\n",
    "    \n",
    "            if y_hat: #print predictions if they have been made\n",
    "                predicted_label_no = y_hat[i_list[i]]\n",
    "                predicted_label = label_names[predicted_label_no]\n",
    "                col.set_title(f'Index: {i_list[i]}\\nLabel: {label}\\nPredicted: {predicted_label}',\n",
    "                              loc='left', fontdict={'fontsize': 8})\n",
    "                fig.suptitle('Example Predictions')\n",
    "            else: \n",
    "                col.set_title(f'Index: {i_list[i]}\\nLabel: {label}',\n",
    "                              loc='left', fontdict={'fontsize': 8})\n",
    "                fig.suptitle('Example Images')\n",
    "            \n",
    "            #update to the next generated index\n",
    "            i+=1\n",
    "    plt.show()"
   ]
  },
  {
   "cell_type": "code",
   "execution_count": 16,
   "metadata": {},
   "outputs": [
    {
     "data": {
      "image/png": "[encoded data removed]",
      "text/plain": [
       "<Figure size 640x480 with 6 Axes>"
      ]
     },
     "metadata": {},
     "output_type": "display_data"
    }
   ],
   "source": [
    "plot_6()"
   ]
  },
  {
   "attachments": {},
   "cell_type": "markdown",
   "metadata": {},
   "source": [
    "# <center>CNN Structure<center>"
   ]
  },
  {
   "cell_type": "code",
   "execution_count": 76,
   "metadata": {},
   "outputs": [],
   "source": [
    "\n",
    "class ConvolutionalLayer:\n",
    "    def __init__(self, no_of_filters=1, filter_size=3, stride=1, pad=0, input_shape=None):\n",
    "        self.no_of_filters = no_of_filters\n",
    "        self.filter_size = filter_size\n",
    "        self.stride = stride\n",
    "        self.pad = pad\n",
    "        self.filters = np.random.randn(no_of_filters, filter_size, filter_size, input_shape[-1]) * np.sqrt(2/np.prod(input_shape)) # initialise the set of filters with he initialization method\n",
    "        self.ftmap_size = int((input_shape[0] - self.filter_size + 2*pad)/self.stride) + 1 # determine the size of output feature map\n",
    "        self.input = None\n",
    "\n",
    "    def forwardprop(self, image):\n",
    "        # pad the 4 edges of the image with the provided number of pixels\n",
    "        if self.pad > 0:\n",
    "            image = np.pad(image, [(self.pad,self.pad), (self.pad,self.pad), (0,0)], 'constant')\n",
    "        \n",
    "        # store image to later backprop:\n",
    "        self.input = image\n",
    "\n",
    "        # initialise output matrix with zeros:\n",
    "        output = np.zeros(shape=(self.ftmap_size, self.ftmap_size, self.no_of_filters))\n",
    "        \n",
    "        # (x,y) = position of the sliding window on the input image and (i,j) = updated element in the output:\n",
    "        y = j = 0\n",
    "        # slide the window and scan to map the outputs:\n",
    "        while (y + self.filter_size) <= image.shape[1]:\n",
    "            x = i = 0\n",
    "            while (x + self.filter_size) <= image.shape[0]:\n",
    "                window = image[x:(x+self.filter_size), y:(y+self.filter_size), :]\n",
    "                # apply each filter to the defined window\n",
    "                for f in range(self.no_of_filters):\n",
    "                    output[i,j,f] = np.sum(self.filters[f]*window)\n",
    "                x += self.stride\n",
    "                i += 1\n",
    "            y += self.stride\n",
    "            j += 1\n",
    "        return output\n",
    "    \n",
    "    def backprop(self, dL_dout, learn_rate):\n",
    "        # initialise input gradients:\n",
    "        dL_din = np.zeros(shape=(self.input.shape))\n",
    "        # initialise filter gradients:\n",
    "        dL_dw = np.zeros(shape=self.filters.shape)\n",
    "\n",
    "        #convolve over input to compute gradients:\n",
    "        y = j = 0\n",
    "        while (y + self.filter_size) <= self.input.shape[1]:\n",
    "            x = i = 0\n",
    "            while (x + self.filter_size) <= self.input.shape[0]:\n",
    "                window = self.input[x:(x+self.filter_size), y:(y+self.filter_size), :]\n",
    "                # apply each filter to the defined window\n",
    "                for f in range(self.no_of_filters):\n",
    "                    dL_dw[f] += dL_dout[i,j,f] * window # each stride adds a little to the filters gradient\n",
    "                    dL_din[x:(x+self.filter_size), y:(y+self.filter_size),:] +=  dL_dout[i,j,f] * self.filters[f]\n",
    "                x += self.stride\n",
    "                i += 1\n",
    "            y += self.stride\n",
    "            j += 1\n",
    "        \n",
    "        #update filters:\n",
    "        self.filters -= dL_dw * learn_rate\n",
    "        return dL_din\n",
    "\n",
    "class MaxPoolingLayer:\n",
    "    def __init__(self, pool_size=2, stride=2):\n",
    "        self.pool_size = pool_size\n",
    "        self.stride = stride\n",
    "        self.input = None\n",
    "    \n",
    "    def forwardprop(self, sample):\n",
    "        self.input = sample \n",
    "        ftmap_size = int((sample.shape[0] - self.pool_size)/self.stride) + 1\n",
    "        output = np.zeros(shape=(ftmap_size, ftmap_size, sample.shape[-1]))\n",
    "\n",
    "        # slide the window and scan to map the outputs:\n",
    "        y = j = 0\n",
    "        while (y + self.pool_size) <= sample.shape[1]:\n",
    "            x = i = 0\n",
    "            while (x + self.pool_size) <= sample.shape[0]:\n",
    "                # pool each channel:\n",
    "                for c in range(sample.shape[-1]):\n",
    "                    window = sample[x:(x+self.pool_size), y:(y+self.pool_size), c]\n",
    "                    output[i,j,c] = np.max(window)\n",
    "                x += self.stride\n",
    "                i += 1\n",
    "            y += self.stride\n",
    "            j += 1\n",
    "        return output\n",
    "    \n",
    "    def backprop(self, dL_dout, learn_rate):\n",
    "        dL_din = np.zeros(shape=self.input.shape) # initialise derivatives matrix\n",
    "\n",
    "        y = j = 0\n",
    "        while (y + self.pool_size) <= dL_din.shape[1]:\n",
    "            x = i = 0\n",
    "            while (x + self.pool_size) <= dL_din.shape[0]:\n",
    "                for c in range(dL_din.shape[-1]):\n",
    "                    window = self.input[x:(x+self.pool_size), y:(y+self.pool_size), c]\n",
    "                    x_idx, y_idx = np.where(window == np.max(window)) # get the index of max value inside input window\n",
    "                    dL_din[(x+x_idx), (y+y_idx), c] = dL_dout[i,j,c]\n",
    "                x += self.stride\n",
    "                i += 1\n",
    "            y += self.stride\n",
    "            j += 1\n",
    "        return dL_din\n",
    "\n",
    "class ActivationLayer:\n",
    "    def __init__(self, fn=None, alpha = 0.0001):\n",
    "        self.function = fn\n",
    "        self.input = None\n",
    "        self.output = None\n",
    "        self.alpha = alpha # for leaky relu only\n",
    "\n",
    "    def forwardprop(self, input_arr):\n",
    "        self.input = input_arr\n",
    "\n",
    "        if self.function == 'relu':\n",
    "            output = np.maximum(input_arr, 0)\n",
    "        \n",
    "        if self.function == 'leakyrelu':\n",
    "            output = np.maximum(input_arr, self.alpha*input_arr)\n",
    "\n",
    "        if self.function == 'sigmoid':\n",
    "            output = 1/(1+np.exp(input_arr))\n",
    "        \n",
    "        if self.function == 'softmax':\n",
    "            output = np.exp(input_arr)/np.sum(np.exp(input_arr))\n",
    "        \n",
    "        if self.function == None:\n",
    "            output = input_arr\n",
    "\n",
    "        self.output = output # store output to later derive\n",
    "        return output\n",
    "    \n",
    "    def backprop(self, dL_dout, learn_rate):\n",
    "        if self.function == 'relu':\n",
    "            dout_din = np.int_(self.input > 0) # relu derivative\n",
    "            dL_din = dL_dout * dout_din\n",
    "\n",
    "        if self.function == 'leakyrelu':\n",
    "            dout_din = np.divide(self.output, self.input, out=np.zeros_like(self.output), where=self.input!=0) # avoid divide by 0\n",
    "            dL_din = dL_dout * dout_din\n",
    "\n",
    "        if self.function == 'sigmoid':\n",
    "            dout_din = self.output * (1-self.output) # sigmoid derivative\n",
    "            dL_din = dL_dout * dout_din\n",
    "\n",
    "        if self.function == 'softmax':\n",
    "            output = self.output.reshape(-1,1)\n",
    "            dout_din = np.diagflat(output) - np.dot(output, output.T) # derivative matrix of softmax function\n",
    "            dL_din = np.dot(dout_din,dL_dout) # compute input loss deriv. by chain rule\n",
    "        \n",
    "        if self.function == None:\n",
    "            dL_din = dL_dout\n",
    "        \n",
    "        return dL_din\n",
    "     \n",
    "class FlattenLayer:\n",
    "    def __init__(self):\n",
    "        self.input_shape = None\n",
    "    \n",
    "    def forwardprop(self, input_arr):\n",
    "        self.input_shape = input_arr.shape\n",
    "        return input_arr.reshape(-1,1)\n",
    "    \n",
    "    def backprop(self, dL_dout, learn_rate):\n",
    "        return dL_dout.reshape(self.input_shape)\n",
    "        \n",
    "        \n",
    "class DenseLayer: \n",
    "    def __init__(self, units_in, units_out):\n",
    "        self.weights = np.random.randn(units_out, units_in) * np.sqrt(2/units_in)\n",
    "        self.biases = np.zeros(shape=(units_out,1))\n",
    "\n",
    "    def forwardprop(self, input_arr):\n",
    "        self.input = input_arr # store input for later use in backprop\n",
    "        return np.dot(self.weights, input_arr) + self.biases\n",
    "    \n",
    "    def backprop(self, dL_dout, learn_rate):\n",
    "        dL_dw = np.dot(dL_dout, self.input.T) # weight loss\n",
    "\n",
    "        # update parameters:\n",
    "        self.weights -= dL_dw * learn_rate\n",
    "        self.biases -= dL_dout * learn_rate # bias loss gradient = dL_dout\n",
    "\n",
    "        return np.dot(self.weights.T, dL_dout) # return derivative of loss wrt input, i.e. dL_din\n",
    "    \n",
    "class NN:\n",
    "    def __init__(self):\n",
    "        self.layers = []\n",
    "    \n",
    "    def add(self, layer):\n",
    "        self.layers.append(layer)\n",
    "    \n",
    "    def forwardpass(self, image):\n",
    "        for layer in self.layers:\n",
    "            image = layer.forwardprop(image)\n",
    "        return image\n",
    "\n",
    "    def backpass(self, dL_dout, learn_rate):\n",
    "        for layer in reversed(self.layers):\n",
    "            dL_dout = layer.backprop(dL_dout, learn_rate)\n",
    "\n",
    "    def train(self, x_train, y_train, epochs, learn_rate):    \n",
    "        from tqdm import tqdm\n",
    "        y_size = np.max(y_train)+1 # vector size of one-hot encoded y\n",
    "        \n",
    "        for epoch in range(epochs):\n",
    "            loss_sum = 0\n",
    "            correct_pred = 0\n",
    "            for i in tqdm(range(y_train.shape[0]), ncols = 80):\n",
    "                x = x_train[i]\n",
    "                y = y_train[i]\n",
    "                # one hot encode y: \n",
    "                y_1hot = np.zeros(shape=(y_size,1))\n",
    "                y_1hot[y] = 1\n",
    "                \n",
    "                # pass the image through the network to obtain the probabilities array of the image belonging in each class:\n",
    "                p = self.forwardpass(x) # (1x10) shape\n",
    "                \n",
    "                # keep track of correct predictions:\n",
    "                if np.argmax(p) == y:\n",
    "                    correct_pred += 1\n",
    "\n",
    "                # compute cross-entropy loss:\n",
    "                loss_sum += -np.log(p[y,0]) # -log of probability for the correct class\n",
    "                gradient = np.divide(-y_1hot,p) #derivative of cross-entropy loss function - dL_dout, (1x10) shape\n",
    "\n",
    "                # pass the gradient back through the network to adjust weights and biases:\n",
    "                self.backpass(gradient, learn_rate)\n",
    "                \n",
    "            print(f'Epoch: {epoch}, Loss: {loss_sum/y_train.shape[0]}, Accuracy: {correct_pred*100/y_train.shape[0]}%')\n",
    "        \n",
    "\n",
    "            \n",
    "        "
   ]
  },
  {
   "cell_type": "code",
   "execution_count": 18,
   "metadata": {},
   "outputs": [],
   "source": [
    "x_train_scaled = x_train/255\n",
    "x_test_scaled = x_test/255"
   ]
  },
  {
   "cell_type": "code",
   "execution_count": 31,
   "metadata": {},
   "outputs": [],
   "source": [
    "mlp = NN()\n",
    "\n",
    "mlp.add(FlattenLayer())\n",
    "mlp.add(DenseLayer(3072,768))\n",
    "mlp.add(ActivationLayer('relu'))\n",
    "mlp.add(DenseLayer(768,10)) \n",
    "mlp.add(ActivationLayer('softmax'))"
   ]
  },
  {
   "cell_type": "code",
   "execution_count": 32,
   "metadata": {},
   "outputs": [
    {
     "name": "stderr",
     "output_type": "stream",
     "text": [
      "100%|███████████████████████████████████████| 1000/1000 [00:44<00:00, 22.60it/s]\n"
     ]
    },
    {
     "name": "stdout",
     "output_type": "stream",
     "text": [
      "Epoch: 0, Loss: 2.246028819924775, Accuracy: 17.2%\n"
     ]
    },
    {
     "name": "stderr",
     "output_type": "stream",
     "text": [
      "100%|███████████████████████████████████████| 1000/1000 [00:45<00:00, 21.98it/s]\n"
     ]
    },
    {
     "name": "stdout",
     "output_type": "stream",
     "text": [
      "Epoch: 1, Loss: 2.0585109126774404, Accuracy: 26.3%\n"
     ]
    },
    {
     "name": "stderr",
     "output_type": "stream",
     "text": [
      "100%|███████████████████████████████████████| 1000/1000 [00:45<00:00, 21.77it/s]\n"
     ]
    },
    {
     "name": "stdout",
     "output_type": "stream",
     "text": [
      "Epoch: 2, Loss: 1.9596260536193149, Accuracy: 31.3%\n"
     ]
    },
    {
     "name": "stderr",
     "output_type": "stream",
     "text": [
      "100%|███████████████████████████████████████| 1000/1000 [00:45<00:00, 22.13it/s]\n"
     ]
    },
    {
     "name": "stdout",
     "output_type": "stream",
     "text": [
      "Epoch: 3, Loss: 1.891789639087869, Accuracy: 33.6%\n"
     ]
    },
    {
     "name": "stderr",
     "output_type": "stream",
     "text": [
      "100%|███████████████████████████████████████| 1000/1000 [00:45<00:00, 22.15it/s]\n"
     ]
    },
    {
     "name": "stdout",
     "output_type": "stream",
     "text": [
      "Epoch: 4, Loss: 1.838316256982695, Accuracy: 36.1%\n"
     ]
    },
    {
     "name": "stderr",
     "output_type": "stream",
     "text": [
      "100%|███████████████████████████████████████| 1000/1000 [00:45<00:00, 22.01it/s]\n"
     ]
    },
    {
     "name": "stdout",
     "output_type": "stream",
     "text": [
      "Epoch: 5, Loss: 1.7939547834928362, Accuracy: 38.3%\n"
     ]
    },
    {
     "name": "stderr",
     "output_type": "stream",
     "text": [
      "100%|███████████████████████████████████████| 1000/1000 [00:45<00:00, 22.01it/s]\n"
     ]
    },
    {
     "name": "stdout",
     "output_type": "stream",
     "text": [
      "Epoch: 6, Loss: 1.7557217935426328, Accuracy: 39.6%\n"
     ]
    },
    {
     "name": "stderr",
     "output_type": "stream",
     "text": [
      "100%|███████████████████████████████████████| 1000/1000 [00:45<00:00, 21.89it/s]\n"
     ]
    },
    {
     "name": "stdout",
     "output_type": "stream",
     "text": [
      "Epoch: 7, Loss: 1.7217565391786442, Accuracy: 40.3%\n"
     ]
    },
    {
     "name": "stderr",
     "output_type": "stream",
     "text": [
      "100%|███████████████████████████████████████| 1000/1000 [00:46<00:00, 21.72it/s]\n"
     ]
    },
    {
     "name": "stdout",
     "output_type": "stream",
     "text": [
      "Epoch: 8, Loss: 1.6910067463610297, Accuracy: 41.4%\n"
     ]
    },
    {
     "name": "stderr",
     "output_type": "stream",
     "text": [
      "100%|███████████████████████████████████████| 1000/1000 [00:45<00:00, 21.80it/s]\n"
     ]
    },
    {
     "name": "stdout",
     "output_type": "stream",
     "text": [
      "Epoch: 9, Loss: 1.6624900076352551, Accuracy: 42.7%\n"
     ]
    },
    {
     "name": "stderr",
     "output_type": "stream",
     "text": [
      "100%|███████████████████████████████████████| 1000/1000 [00:46<00:00, 21.72it/s]\n"
     ]
    },
    {
     "name": "stdout",
     "output_type": "stream",
     "text": [
      "Epoch: 10, Loss: 1.6357575538050027, Accuracy: 43.6%\n"
     ]
    },
    {
     "name": "stderr",
     "output_type": "stream",
     "text": [
      "100%|███████████████████████████████████████| 1000/1000 [00:46<00:00, 21.55it/s]\n"
     ]
    },
    {
     "name": "stdout",
     "output_type": "stream",
     "text": [
      "Epoch: 11, Loss: 1.6105616631471518, Accuracy: 44.3%\n"
     ]
    },
    {
     "name": "stderr",
     "output_type": "stream",
     "text": [
      "100%|███████████████████████████████████████| 1000/1000 [00:46<00:00, 21.52it/s]\n"
     ]
    },
    {
     "name": "stdout",
     "output_type": "stream",
     "text": [
      "Epoch: 12, Loss: 1.586832059451088, Accuracy: 45.5%\n"
     ]
    },
    {
     "name": "stderr",
     "output_type": "stream",
     "text": [
      "100%|███████████████████████████████████████| 1000/1000 [00:47<00:00, 21.16it/s]\n"
     ]
    },
    {
     "name": "stdout",
     "output_type": "stream",
     "text": [
      "Epoch: 13, Loss: 1.564310995520653, Accuracy: 46.5%\n"
     ]
    },
    {
     "name": "stderr",
     "output_type": "stream",
     "text": [
      "100%|███████████████████████████████████████| 1000/1000 [00:40<00:00, 24.95it/s]\n"
     ]
    },
    {
     "name": "stdout",
     "output_type": "stream",
     "text": [
      "Epoch: 14, Loss: 1.542698982772811, Accuracy: 48.4%\n"
     ]
    },
    {
     "name": "stderr",
     "output_type": "stream",
     "text": [
      "100%|███████████████████████████████████████| 1000/1000 [00:41<00:00, 24.23it/s]\n"
     ]
    },
    {
     "name": "stdout",
     "output_type": "stream",
     "text": [
      "Epoch: 15, Loss: 1.5218810056610985, Accuracy: 49.3%\n"
     ]
    },
    {
     "name": "stderr",
     "output_type": "stream",
     "text": [
      "100%|███████████████████████████████████████| 1000/1000 [00:40<00:00, 24.74it/s]\n"
     ]
    },
    {
     "name": "stdout",
     "output_type": "stream",
     "text": [
      "Epoch: 16, Loss: 1.501383788613557, Accuracy: 50.4%\n"
     ]
    },
    {
     "name": "stderr",
     "output_type": "stream",
     "text": [
      "100%|███████████████████████████████████████| 1000/1000 [00:41<00:00, 24.25it/s]\n"
     ]
    },
    {
     "name": "stdout",
     "output_type": "stream",
     "text": [
      "Epoch: 17, Loss: 1.481801050990649, Accuracy: 51.8%\n"
     ]
    },
    {
     "name": "stderr",
     "output_type": "stream",
     "text": [
      "100%|███████████████████████████████████████| 1000/1000 [00:39<00:00, 25.24it/s]\n"
     ]
    },
    {
     "name": "stdout",
     "output_type": "stream",
     "text": [
      "Epoch: 18, Loss: 1.4629570399683054, Accuracy: 52.7%\n"
     ]
    },
    {
     "name": "stderr",
     "output_type": "stream",
     "text": [
      "100%|███████████████████████████████████████| 1000/1000 [00:44<00:00, 22.66it/s]\n"
     ]
    },
    {
     "name": "stdout",
     "output_type": "stream",
     "text": [
      "Epoch: 19, Loss: 1.4447556424833594, Accuracy: 53.4%\n"
     ]
    },
    {
     "name": "stderr",
     "output_type": "stream",
     "text": [
      "100%|███████████████████████████████████████| 1000/1000 [00:43<00:00, 22.76it/s]\n"
     ]
    },
    {
     "name": "stdout",
     "output_type": "stream",
     "text": [
      "Epoch: 20, Loss: 1.4268583304229248, Accuracy: 54.2%\n"
     ]
    },
    {
     "name": "stderr",
     "output_type": "stream",
     "text": [
      "100%|███████████████████████████████████████| 1000/1000 [00:44<00:00, 22.68it/s]\n"
     ]
    },
    {
     "name": "stdout",
     "output_type": "stream",
     "text": [
      "Epoch: 21, Loss: 1.4093488751799657, Accuracy: 54.9%\n"
     ]
    },
    {
     "name": "stderr",
     "output_type": "stream",
     "text": [
      "100%|███████████████████████████████████████| 1000/1000 [00:44<00:00, 22.33it/s]\n"
     ]
    },
    {
     "name": "stdout",
     "output_type": "stream",
     "text": [
      "Epoch: 22, Loss: 1.3921837357899927, Accuracy: 55.6%\n"
     ]
    },
    {
     "name": "stderr",
     "output_type": "stream",
     "text": [
      "100%|███████████████████████████████████████| 1000/1000 [00:45<00:00, 21.98it/s]\n"
     ]
    },
    {
     "name": "stdout",
     "output_type": "stream",
     "text": [
      "Epoch: 23, Loss: 1.3754852137343834, Accuracy: 56.2%\n"
     ]
    },
    {
     "name": "stderr",
     "output_type": "stream",
     "text": [
      "100%|███████████████████████████████████████| 1000/1000 [00:45<00:00, 21.99it/s]"
     ]
    },
    {
     "name": "stdout",
     "output_type": "stream",
     "text": [
      "Epoch: 24, Loss: 1.35929606820574, Accuracy: 57.2%\n"
     ]
    },
    {
     "name": "stderr",
     "output_type": "stream",
     "text": [
      "\n"
     ]
    }
   ],
   "source": [
    "mlp.train(x_train_scaled[:1000], y_train[:1000], epochs = 25, learn_rate=0.00030)"
   ]
  },
  {
   "cell_type": "code",
   "execution_count": 90,
   "metadata": {},
   "outputs": [],
   "source": [
    "mlp2 = NN()\n",
    "\n",
    "mlp2.add(FlattenLayer())\n",
    "\n",
    "mlp2.add(DenseLayer(3072,640))\n",
    "mlp2.add(ActivationLayer('relu'))\n",
    "\n",
    "mlp2.add(DenseLayer(640,16))\n",
    "mlp2.add(ActivationLayer('relu'))\n",
    "\n",
    "mlp2.add(DenseLayer(16,10))\n",
    "mlp2.add(ActivationLayer('relu'))\n",
    "\n",
    "mlp2.add(DenseLayer(10,10))\n",
    "mlp2.add(ActivationLayer('softmax'))"
   ]
  },
  {
   "cell_type": "code",
   "execution_count": 83,
   "metadata": {},
   "outputs": [],
   "source": [
    "cnn = NN()\n",
    "\n",
    "cnn.add(ConvolutionalLayer(no_of_filters=16, filter_size=3, stride=1, pad=1, input_shape=(32,32,3)))\n",
    "cnn.add(ActivationLayer('relu'))\n",
    "cnn.add(MaxPoolingLayer())\n",
    "\n",
    "cnn.add(FlattenLayer())\n",
    "cnn.add(DenseLayer(4096,10))\n",
    "cnn.add(ActivationLayer('softmax'))\n"
   ]
  },
  {
   "cell_type": "code",
   "execution_count": null,
   "metadata": {},
   "outputs": [],
   "source": [
    "cnn.train(x_train_scaled[:1000], y_train[:1000], epochs = 25, learn_rate=0.0015)"
   ]
  }
 ],
 "metadata": {
  "kernelspec": {
   "display_name": "Python 3",
   "language": "python",
   "name": "python3"
  },
  "language_info": {
   "codemirror_mode": {
    "name": "ipython",
    "version": 3
   },
   "file_extension": ".py",
   "mimetype": "text/x-python",
   "name": "python",
   "nbconvert_exporter": "python",
   "pygments_lexer": "ipython3",
   "version": "3.10.9"
  },
  "orig_nbformat": 4
 },
 "nbformat": 4,
 "nbformat_minor": 2
}
