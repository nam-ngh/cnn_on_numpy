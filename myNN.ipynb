{
  "cells": [
    {
      "cell_type": "code",
      "execution_count": 1,
      "metadata": {
        "id": "UrVhPRxL4OcX"
      },
      "outputs": [],
      "source": [
        "import numpy as np\n",
        "import matplotlib.pyplot as plt"
      ]
    },
    {
      "cell_type": "code",
      "source": [
        "# importing our own neural network library:\n",
        "!git clone https://github.com/nam-ngh/myNN.git"
      ],
      "metadata": {
        "id": "aZSTmTzH7Kz2",
        "outputId": "695be987-6ad9-4d04-ed23-f9451f9cd4e5",
        "colab": {
          "base_uri": "https://localhost:8080/"
        }
      },
      "execution_count": 2,
      "outputs": [
        {
          "output_type": "stream",
          "name": "stdout",
          "text": [
            "Cloning into 'myNN'...\n",
            "remote: Enumerating objects: 56, done.\u001b[K\n",
            "remote: Counting objects: 100% (11/11), done.\u001b[K\n",
            "remote: Compressing objects: 100% (9/9), done.\u001b[K\n",
            "remote: Total 56 (delta 2), reused 10 (delta 2), pack-reused 45\u001b[K\n",
            "Unpacking objects: 100% (56/56), 162.30 MiB | 10.38 MiB/s, done.\n",
            "Updating files: 100% (8/8), done.\n"
          ]
        }
      ]
    },
    {
      "cell_type": "code",
      "source": [
        "from myNN import myNN as nn"
      ],
      "metadata": {
        "id": "sce-rdgo9AdY"
      },
      "execution_count": 3,
      "outputs": []
    },
    {
      "cell_type": "markdown",
      "metadata": {
        "id": "QUXm8EZE4Ocb"
      },
      "source": [
        "#### 1. Unpacking the cifar-10 dataset"
      ]
    },
    {
      "cell_type": "code",
      "execution_count": 4,
      "metadata": {
        "id": "NgA5UTo14Oce"
      },
      "outputs": [],
      "source": [
        "def unpickle(file):\n",
        "    import pickle\n",
        "    with open(file, 'rb') as fo:\n",
        "        dict = pickle.load(fo, encoding='bytes')\n",
        "    return dict"
      ]
    },
    {
      "cell_type": "code",
      "execution_count": 5,
      "metadata": {
        "id": "SfrpdDwZ4Och"
      },
      "outputs": [],
      "source": [
        "#List of train data files:\n",
        "data_batches = ['myNN/cifar10/data_batch_1','myNN/cifar10/data_batch_2','myNN/cifar10/data_batch_3','myNN/cifar10/data_batch_4','myNN/cifar10/data_batch_5',]\n",
        "#Unpickling every batch in the list:\n",
        "train_data_dicts = [unpickle(batch) for batch in data_batches]\n",
        "#Unpickling test data file:\n",
        "test_data_dict = unpickle('myNN/cifar10/test_batch')\n",
        "#Unpickling label names file:\n",
        "label_names_dicts = unpickle('myNN/cifar10/batches.meta')\n",
        "label_names = [str(label, 'utf-8') for label in label_names_dicts[b'label_names']]"
      ]
    },
    {
      "cell_type": "code",
      "execution_count": 6,
      "metadata": {
        "id": "olLVzArC4Ock",
        "outputId": "fa18f7f7-4966-4ae5-d6c8-b41a62cfc26e",
        "colab": {
          "base_uri": "https://localhost:8080/"
        }
      },
      "outputs": [
        {
          "output_type": "stream",
          "name": "stdout",
          "text": [
            "(50000, 32, 32, 3) (50000,) (10000, 32, 32, 3) (10000,)\n"
          ]
        }
      ],
      "source": [
        "#Group batches and define train data:\n",
        "x_train = np.empty(shape=(0,3072),dtype=np.uint8)\n",
        "y_train = []\n",
        "for dict in train_data_dicts:\n",
        "    x_train = np.append(x_train, dict[b'data'], axis = 0)\n",
        "    y_train += dict[b'labels']\n",
        "y_train = np.asarray(y_train)\n",
        "\n",
        "#Define test data:\n",
        "x_test = np.array(test_data_dict[b'data'])\n",
        "y_test = np.array(test_data_dict[b'labels'])\n",
        "\n",
        "#Convert x to image format:\n",
        "x_train = x_train.reshape(50000,3,32,32).transpose(0,2,3,1)\n",
        "x_test = x_test.reshape(10000,3,32,32).transpose(0,2,3,1)\n",
        "\n",
        "print(x_train.shape, y_train.shape, x_test.shape, y_test.shape)"
      ]
    },
    {
      "cell_type": "markdown",
      "metadata": {
        "id": "jZ81Dgds4Ocm"
      },
      "source": [
        "We now have the train and test data. Let's try plotting some of the images"
      ]
    },
    {
      "cell_type": "code",
      "execution_count": 7,
      "metadata": {
        "id": "JJULwqGX4Ocn"
      },
      "outputs": [],
      "source": [
        "#function to plot 6 random images from the dataset:\n",
        "def plot_6(x=x_test,y=y_test,y_hat=None):\n",
        "    fig, ax = plt.subplots(2,3)\n",
        "    i_list = np.random.randint(low=0, high=10000, size = 6) #generate list of random indices\n",
        "    i=0\n",
        "    for row in ax:\n",
        "        for col in row:\n",
        "            col.axis('off')\n",
        "            #get image:\n",
        "            img = x[i_list[i]]\n",
        "            col.imshow(img)\n",
        "            #get label:\n",
        "            label_no = y[i_list[i]]\n",
        "            label = label_names[label_no]\n",
        "    \n",
        "            if y_hat: #print predictions if they have been made\n",
        "                predicted_label_no = y_hat[i_list[i]]\n",
        "                predicted_label = label_names[predicted_label_no]\n",
        "                col.set_title(f'Index: {i_list[i]}\\nLabel: {label}\\nPredicted: {predicted_label}',\n",
        "                              loc='left', fontdict={'fontsize': 8})\n",
        "                fig.suptitle('Example Predictions')\n",
        "            else: \n",
        "                col.set_title(f'Index: {i_list[i]}\\nLabel: {label}',\n",
        "                              loc='left', fontdict={'fontsize': 8})\n",
        "                fig.suptitle('Example Images')\n",
        "            \n",
        "            #update to the next generated index\n",
        "            i+=1\n",
        "    plt.show()"
      ]
    },
    {
      "cell_type": "code",
      "execution_count": 8,
      "metadata": {
        "id": "1pq_UTp04Ocq",
        "outputId": "31a8c8e4-fd61-4f1c-f94a-0d6eed607bd4",
        "colab": {
          "base_uri": "https://localhost:8080/",
          "height": 443
        }
      },
      "outputs": [
        {
          "output_type": "display_data",
          "data": {
            "text/plain": [
              "<Figure size 640x480 with 6 Axes>"
            ],
            "image/png": "[encoded data removed]"
          },
          "metadata": {}
        }
      ],
      "source": [
        "plot_6()"
      ]
    },
    {
      "cell_type": "markdown",
      "source": [
        "#### 2. Models building/training\n",
        "To start with using our neural network library, we try building a simple network with just one hidden layer:"
      ],
      "metadata": {
        "id": "8zgX2sAg_BdU"
      }
    },
    {
      "cell_type": "code",
      "source": [
        "mlp = nn.NN()\n",
        "\n",
        "mlp.add(nn.FlattenLayer())\n",
        "mlp.add(nn.DenseLayer(units_in=3072, units_out=768, init_weights_stdev= np.sqrt(2/3072))) # kaiming weights initialization\n",
        "mlp.add(nn.ActivationLayer('relu'))\n",
        "mlp.add(nn.DenseLayer(units_in=768, units_out=10)) # random weights initialization\n",
        "mlp.add(nn.ActivationLayer('softmax'))"
      ],
      "metadata": {
        "id": "5tufutH45YAC"
      },
      "execution_count": 29,
      "outputs": []
    },
    {
      "cell_type": "code",
      "source": [
        "# preprocess data with min max scaling:\n",
        "x_train_scaled = x_train / 255 - 0.5\n",
        "x_test_scaled = x_test / 255 - 0.5"
      ],
      "metadata": {
        "id": "epespbdUAc1f"
      },
      "execution_count": 27,
      "outputs": []
    },
    {
      "cell_type": "code",
      "source": [
        "# train the model:\n",
        "mlp.train(x_train_scaled[:3000], y_train[:3000], epochs=30, learn_rate=0.00015)"
      ],
      "metadata": {
        "id": "7iR751dX-i9A",
        "outputId": "62d89508-2693-44d2-82d3-a453ea91d17a",
        "colab": {
          "base_uri": "https://localhost:8080/"
        }
      },
      "execution_count": 30,
      "outputs": [
        {
          "output_type": "stream",
          "name": "stderr",
          "text": [
            "100%|███████████████████████████████████████| 3000/3000 [00:33<00:00, 89.78it/s]\n"
          ]
        },
        {
          "output_type": "stream",
          "name": "stdout",
          "text": [
            "Epoch: 0, Loss: 2.1488317534054175, Accuracy: 22.7%\n"
          ]
        },
        {
          "output_type": "stream",
          "name": "stderr",
          "text": [
            "100%|███████████████████████████████████████| 3000/3000 [00:33<00:00, 88.53it/s]\n"
          ]
        },
        {
          "output_type": "stream",
          "name": "stdout",
          "text": [
            "Epoch: 1, Loss: 1.8913883738695976, Accuracy: 33.93333333333333%\n"
          ]
        },
        {
          "output_type": "stream",
          "name": "stderr",
          "text": [
            "100%|███████████████████████████████████████| 3000/3000 [00:33<00:00, 90.61it/s]\n"
          ]
        },
        {
          "output_type": "stream",
          "name": "stdout",
          "text": [
            "Epoch: 2, Loss: 1.7699404721097207, Accuracy: 39.1%\n"
          ]
        },
        {
          "output_type": "stream",
          "name": "stderr",
          "text": [
            "100%|███████████████████████████████████████| 3000/3000 [00:32<00:00, 91.79it/s]\n"
          ]
        },
        {
          "output_type": "stream",
          "name": "stdout",
          "text": [
            "Epoch: 3, Loss: 1.6858502574435519, Accuracy: 42.46666666666667%\n"
          ]
        },
        {
          "output_type": "stream",
          "name": "stderr",
          "text": [
            "100%|███████████████████████████████████████| 3000/3000 [00:32<00:00, 93.35it/s]\n"
          ]
        },
        {
          "output_type": "stream",
          "name": "stdout",
          "text": [
            "Epoch: 4, Loss: 1.6206869256860468, Accuracy: 45.2%\n"
          ]
        },
        {
          "output_type": "stream",
          "name": "stderr",
          "text": [
            "100%|███████████████████████████████████████| 3000/3000 [00:32<00:00, 93.62it/s]\n"
          ]
        },
        {
          "output_type": "stream",
          "name": "stdout",
          "text": [
            "Epoch: 5, Loss: 1.5664296318767177, Accuracy: 47.8%\n"
          ]
        },
        {
          "output_type": "stream",
          "name": "stderr",
          "text": [
            "100%|███████████████████████████████████████| 3000/3000 [00:34<00:00, 88.03it/s]\n"
          ]
        },
        {
          "output_type": "stream",
          "name": "stdout",
          "text": [
            "Epoch: 6, Loss: 1.5196171808199597, Accuracy: 50.333333333333336%\n"
          ]
        },
        {
          "output_type": "stream",
          "name": "stderr",
          "text": [
            "100%|███████████████████████████████████████| 3000/3000 [00:34<00:00, 87.93it/s]\n"
          ]
        },
        {
          "output_type": "stream",
          "name": "stdout",
          "text": [
            "Epoch: 7, Loss: 1.4781130637988236, Accuracy: 51.96666666666667%\n"
          ]
        },
        {
          "output_type": "stream",
          "name": "stderr",
          "text": [
            "100%|███████████████████████████████████████| 3000/3000 [00:34<00:00, 87.16it/s]\n"
          ]
        },
        {
          "output_type": "stream",
          "name": "stdout",
          "text": [
            "Epoch: 8, Loss: 1.440760757491417, Accuracy: 53.3%\n"
          ]
        },
        {
          "output_type": "stream",
          "name": "stderr",
          "text": [
            "100%|███████████████████████████████████████| 3000/3000 [00:34<00:00, 86.88it/s]\n"
          ]
        },
        {
          "output_type": "stream",
          "name": "stdout",
          "text": [
            "Epoch: 9, Loss: 1.4066051877532224, Accuracy: 55.3%\n"
          ]
        },
        {
          "output_type": "stream",
          "name": "stderr",
          "text": [
            "100%|███████████████████████████████████████| 3000/3000 [00:34<00:00, 86.37it/s]\n"
          ]
        },
        {
          "output_type": "stream",
          "name": "stdout",
          "text": [
            "Epoch: 10, Loss: 1.3749210408805996, Accuracy: 56.46666666666667%\n"
          ]
        },
        {
          "output_type": "stream",
          "name": "stderr",
          "text": [
            "100%|███████████████████████████████████████| 3000/3000 [00:33<00:00, 88.63it/s]\n"
          ]
        },
        {
          "output_type": "stream",
          "name": "stdout",
          "text": [
            "Epoch: 11, Loss: 1.3454039110604123, Accuracy: 57.86666666666667%\n"
          ]
        },
        {
          "output_type": "stream",
          "name": "stderr",
          "text": [
            "100%|███████████████████████████████████████| 3000/3000 [00:34<00:00, 87.13it/s]\n"
          ]
        },
        {
          "output_type": "stream",
          "name": "stdout",
          "text": [
            "Epoch: 12, Loss: 1.3175603904805524, Accuracy: 59.333333333333336%\n"
          ]
        },
        {
          "output_type": "stream",
          "name": "stderr",
          "text": [
            "100%|███████████████████████████████████████| 3000/3000 [00:34<00:00, 87.32it/s]\n"
          ]
        },
        {
          "output_type": "stream",
          "name": "stdout",
          "text": [
            "Epoch: 13, Loss: 1.2912833783679594, Accuracy: 60.266666666666666%\n"
          ]
        },
        {
          "output_type": "stream",
          "name": "stderr",
          "text": [
            "100%|███████████████████████████████████████| 3000/3000 [00:34<00:00, 88.08it/s]\n"
          ]
        },
        {
          "output_type": "stream",
          "name": "stdout",
          "text": [
            "Epoch: 14, Loss: 1.2663560982747697, Accuracy: 61.333333333333336%\n"
          ]
        },
        {
          "output_type": "stream",
          "name": "stderr",
          "text": [
            "100%|███████████████████████████████████████| 3000/3000 [00:34<00:00, 87.09it/s]\n"
          ]
        },
        {
          "output_type": "stream",
          "name": "stdout",
          "text": [
            "Epoch: 15, Loss: 1.2426407551214582, Accuracy: 62.63333333333333%\n"
          ]
        },
        {
          "output_type": "stream",
          "name": "stderr",
          "text": [
            "100%|███████████████████████████████████████| 3000/3000 [00:35<00:00, 85.34it/s]\n"
          ]
        },
        {
          "output_type": "stream",
          "name": "stdout",
          "text": [
            "Epoch: 16, Loss: 1.2200384491191631, Accuracy: 63.63333333333333%\n"
          ]
        },
        {
          "output_type": "stream",
          "name": "stderr",
          "text": [
            "100%|███████████████████████████████████████| 3000/3000 [00:34<00:00, 87.84it/s]\n"
          ]
        },
        {
          "output_type": "stream",
          "name": "stdout",
          "text": [
            "Epoch: 17, Loss: 1.1983541686288994, Accuracy: 65.03333333333333%\n"
          ]
        },
        {
          "output_type": "stream",
          "name": "stderr",
          "text": [
            "100%|███████████████████████████████████████| 3000/3000 [00:34<00:00, 87.63it/s]\n"
          ]
        },
        {
          "output_type": "stream",
          "name": "stdout",
          "text": [
            "Epoch: 18, Loss: 1.1776157071926945, Accuracy: 65.9%\n"
          ]
        },
        {
          "output_type": "stream",
          "name": "stderr",
          "text": [
            "100%|███████████████████████████████████████| 3000/3000 [00:34<00:00, 86.70it/s]\n"
          ]
        },
        {
          "output_type": "stream",
          "name": "stdout",
          "text": [
            "Epoch: 19, Loss: 1.1575446390789523, Accuracy: 66.56666666666666%\n"
          ]
        },
        {
          "output_type": "stream",
          "name": "stderr",
          "text": [
            "100%|███████████████████████████████████████| 3000/3000 [00:34<00:00, 87.27it/s]\n"
          ]
        },
        {
          "output_type": "stream",
          "name": "stdout",
          "text": [
            "Epoch: 20, Loss: 1.1382045693249647, Accuracy: 67.43333333333334%\n"
          ]
        },
        {
          "output_type": "stream",
          "name": "stderr",
          "text": [
            "100%|███████████████████████████████████████| 3000/3000 [00:33<00:00, 89.56it/s]\n"
          ]
        },
        {
          "output_type": "stream",
          "name": "stdout",
          "text": [
            "Epoch: 21, Loss: 1.1195201298534991, Accuracy: 68.76666666666667%\n"
          ]
        },
        {
          "output_type": "stream",
          "name": "stderr",
          "text": [
            "100%|███████████████████████████████████████| 3000/3000 [00:32<00:00, 92.51it/s]\n"
          ]
        },
        {
          "output_type": "stream",
          "name": "stdout",
          "text": [
            "Epoch: 22, Loss: 1.1014609235356643, Accuracy: 69.73333333333333%\n"
          ]
        },
        {
          "output_type": "stream",
          "name": "stderr",
          "text": [
            "100%|███████████████████████████████████████| 3000/3000 [00:31<00:00, 94.22it/s]\n"
          ]
        },
        {
          "output_type": "stream",
          "name": "stdout",
          "text": [
            "Epoch: 23, Loss: 1.0839584929766526, Accuracy: 70.56666666666666%\n"
          ]
        },
        {
          "output_type": "stream",
          "name": "stderr",
          "text": [
            "100%|███████████████████████████████████████| 3000/3000 [00:32<00:00, 93.23it/s]\n"
          ]
        },
        {
          "output_type": "stream",
          "name": "stdout",
          "text": [
            "Epoch: 24, Loss: 1.0669358983493833, Accuracy: 71.33333333333333%\n"
          ]
        },
        {
          "output_type": "stream",
          "name": "stderr",
          "text": [
            "100%|███████████████████████████████████████| 3000/3000 [00:31<00:00, 94.10it/s]\n"
          ]
        },
        {
          "output_type": "stream",
          "name": "stdout",
          "text": [
            "Epoch: 25, Loss: 1.0503460118865684, Accuracy: 72.1%\n"
          ]
        },
        {
          "output_type": "stream",
          "name": "stderr",
          "text": [
            "100%|███████████████████████████████████████| 3000/3000 [00:32<00:00, 93.01it/s]\n"
          ]
        },
        {
          "output_type": "stream",
          "name": "stdout",
          "text": [
            "Epoch: 26, Loss: 1.0341341979824759, Accuracy: 72.86666666666666%\n"
          ]
        },
        {
          "output_type": "stream",
          "name": "stderr",
          "text": [
            "100%|███████████████████████████████████████| 3000/3000 [00:31<00:00, 93.90it/s]\n"
          ]
        },
        {
          "output_type": "stream",
          "name": "stdout",
          "text": [
            "Epoch: 27, Loss: 1.01840494385366, Accuracy: 73.6%\n"
          ]
        },
        {
          "output_type": "stream",
          "name": "stderr",
          "text": [
            "100%|███████████████████████████████████████| 3000/3000 [00:32<00:00, 91.99it/s]\n"
          ]
        },
        {
          "output_type": "stream",
          "name": "stdout",
          "text": [
            "Epoch: 28, Loss: 1.0029952695458135, Accuracy: 74.23333333333333%\n"
          ]
        },
        {
          "output_type": "stream",
          "name": "stderr",
          "text": [
            "100%|███████████████████████████████████████| 3000/3000 [00:33<00:00, 90.60it/s]"
          ]
        },
        {
          "output_type": "stream",
          "name": "stdout",
          "text": [
            "Epoch: 29, Loss: 0.9880242291142209, Accuracy: 75.16666666666667%\n"
          ]
        },
        {
          "output_type": "stream",
          "name": "stderr",
          "text": [
            "\n"
          ]
        }
      ]
    },
    {
      "cell_type": "code",
      "source": [
        "def get_test_acc(model):\n",
        "  correct_pred = 0\n",
        "  for i in range(x_test_scaled.shape[0]):\n",
        "    p = model.forwardpass(x_test_scaled[i])\n",
        "    if np.argmax(p) == y_test[i]:\n",
        "      correct_pred += 1\n",
        "  return correct_pred/y_test.shape[0]\n"
      ],
      "metadata": {
        "id": "Y5ZTp0Fm42L_"
      },
      "execution_count": 31,
      "outputs": []
    },
    {
      "cell_type": "code",
      "source": [
        "get_test_acc(mlp)"
      ],
      "metadata": {
        "id": "dKyzsHDM6btd",
        "outputId": "d385e8e3-7f65-4c71-b808-58f5b3bf08b6",
        "colab": {
          "base_uri": "https://localhost:8080/"
        }
      },
      "execution_count": 32,
      "outputs": [
        {
          "output_type": "execute_result",
          "data": {
            "text/plain": [
              "0.4153"
            ]
          },
          "metadata": {},
          "execution_count": 32
        }
      ]
    }
  ],
  "metadata": {
    "kernelspec": {
      "display_name": "Python 3",
      "language": "python",
      "name": "python3"
    },
    "language_info": {
      "codemirror_mode": {
        "name": "ipython",
        "version": 3
      },
      "file_extension": ".py",
      "mimetype": "text/x-python",
      "name": "python",
      "nbconvert_exporter": "python",
      "pygments_lexer": "ipython3",
      "version": "3.10.9"
    },
    "orig_nbformat": 4,
    "colab": {
      "provenance": [],
      "gpuType": "A100"
    },
    "gpuClass": "standard",
    "accelerator": "GPU"
  },
  "nbformat": 4,
  "nbformat_minor": 0
}