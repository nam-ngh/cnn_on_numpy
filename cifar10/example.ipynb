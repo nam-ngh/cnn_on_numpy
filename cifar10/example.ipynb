{
  "cells": [
    {
      "cell_type": "markdown",
      "metadata": {
        "id": "dzjCxS-sVe-c"
      },
      "source": [
        "# Simple CNN model using modularCNN"
      ]
    },
    {
      "cell_type": "code",
      "execution_count": 3,
      "metadata": {
        "id": "UrVhPRxL4OcX"
      },
      "outputs": [],
      "source": [
        "import sys\n",
        "import numpy as np\n",
        "import matplotlib.pyplot as plt\n",
        "from config import PARENT_DIR # set this as path to the directory you cloned into\n",
        "sys.path.append(f'{PARENT_DIR}\\modularCNN')\n",
        "from lib import layer, network"
      ]
    },
    {
      "cell_type": "markdown",
      "metadata": {
        "id": "QUXm8EZE4Ocb"
      },
      "source": [
        "#### 1. Unpacking cifar-10:"
      ]
    },
    {
      "cell_type": "code",
      "execution_count": 4,
      "metadata": {
        "id": "NgA5UTo14Oce"
      },
      "outputs": [],
      "source": [
        "def unpickle(file):\n",
        "    import pickle\n",
        "    with open(file, 'rb') as fo:\n",
        "        dict = pickle.load(fo, encoding='bytes')\n",
        "    return dict"
      ]
    },
    {
      "cell_type": "code",
      "execution_count": 5,
      "metadata": {
        "id": "SfrpdDwZ4Och"
      },
      "outputs": [],
      "source": [
        "#List of train data files:\n",
        "data_batches = ['data_batch_1','data_batch_2','data_batch_3','data_batch_4','data_batch_5',]\n",
        "#Unpickling every batch in the list:\n",
        "train_data_dicts = [unpickle(batch) for batch in data_batches]\n",
        "#Unpickling test data file:\n",
        "test_data_dict = unpickle('test_batch')\n",
        "#Unpickling label names file:\n",
        "label_names_dicts = unpickle('batches.meta')\n",
        "label_names = [str(label, 'utf-8') for label in label_names_dicts[b'label_names']]"
      ]
    },
    {
      "cell_type": "code",
      "execution_count": 6,
      "metadata": {
        "colab": {
          "base_uri": "https://localhost:8080/"
        },
        "id": "olLVzArC4Ock",
        "outputId": "19e48f12-efdd-4c95-d221-51283f8b4253"
      },
      "outputs": [
        {
          "name": "stdout",
          "output_type": "stream",
          "text": [
            "(50000, 32, 32, 3) (50000,) (10000, 32, 32, 3) (10000,)\n"
          ]
        }
      ],
      "source": [
        "#Group batches and define train data:\n",
        "x_train = np.empty(shape=(0,3072),dtype=np.uint8)\n",
        "y_train = []\n",
        "for dict in train_data_dicts:\n",
        "    x_train = np.append(x_train, dict[b'data'], axis = 0)\n",
        "    y_train += dict[b'labels']\n",
        "y_train = np.asarray(y_train)\n",
        "\n",
        "#Define test data:\n",
        "x_test = np.array(test_data_dict[b'data'])\n",
        "y_test = np.array(test_data_dict[b'labels'])\n",
        "\n",
        "#Convert x to image format:\n",
        "x_train = x_train.reshape(50000,3,32,32).transpose(0,2,3,1)\n",
        "x_test = x_test.reshape(10000,3,32,32).transpose(0,2,3,1)\n",
        "\n",
        "print(x_train.shape, y_train.shape, x_test.shape, y_test.shape)"
      ]
    },
    {
      "cell_type": "markdown",
      "metadata": {
        "id": "jZ81Dgds4Ocm"
      },
      "source": [
        "We now have the train and test data. Let's try plotting some of the images"
      ]
    },
    {
      "cell_type": "code",
      "execution_count": 23,
      "metadata": {
        "id": "JJULwqGX4Ocn"
      },
      "outputs": [],
      "source": [
        "#function to plot 6 random images from the dataset:\n",
        "def plot_6(x, y, y_hat=None):\n",
        "    fig, ax = plt.subplots(2,3)\n",
        "    i_list = np.random.randint(low=0, high=10000, size = 6) #generate list of random indices\n",
        "    i=0\n",
        "    for row in ax:\n",
        "        for col in row:\n",
        "            col.axis('off')\n",
        "            #get image:\n",
        "            img = x[i_list[i]]\n",
        "            col.imshow(img)\n",
        "            #get label:\n",
        "            label_no = int(y[i_list[i]])\n",
        "            label = label_names[label_no]\n",
        "    \n",
        "            if type(y_hat) == np.ndarray: #print predictions if they have been made\n",
        "                predicted_label_no = int(y_hat[i_list[i]])\n",
        "                predicted_label = label_names[predicted_label_no]\n",
        "                col.set_title(f'Index: {i_list[i]}\\nLabel: {label}\\nPredicted: {predicted_label}',\n",
        "                              loc='left', fontdict={'fontsize': 8})\n",
        "                fig.suptitle('Example Predictions')\n",
        "            else: \n",
        "                col.set_title(f'Index: {i_list[i]}\\nLabel: {label}',\n",
        "                              loc='left', fontdict={'fontsize': 8})\n",
        "                fig.suptitle('Example Images')\n",
        "            \n",
        "            #update to the next generated index\n",
        "            i+=1\n",
        "    plt.show()"
      ]
    },
    {
      "cell_type": "code",
      "execution_count": 24,
      "metadata": {
        "colab": {
          "base_uri": "https://localhost:8080/",
          "height": 443
        },
        "id": "1pq_UTp04Ocq",
        "outputId": "676bba55-fea6-4588-eeb6-39d4653d7d41"
      },
      "outputs": [
        {
          "data": {
            "image/png": "[encoded data removed]",
            "text/plain": [
              "<Figure size 640x480 with 6 Axes>"
            ]
          },
          "metadata": {},
          "output_type": "display_data"
        }
      ],
      "source": [
        "plot_6(x=x_test.astype('int'), y=y_test.astype('int'))"
      ]
    },
    {
      "cell_type": "code",
      "execution_count": 9,
      "metadata": {
        "id": "RJZylpk-Ub0R"
      },
      "outputs": [],
      "source": [
        "# the images look good, now we process the data for training:\n",
        "\n",
        "# preprocess input features with min max scaling:\n",
        "x_train_scaled = x_train / 255\n",
        "x_test_scaled = x_test / 255\n",
        "\n",
        "# random parallel shuffle train data for random validation:\n",
        "p = np.random.permutation(x_train.shape[0])\n",
        "rand_x_tr = x_train_scaled[p]\n",
        "rand_y_tr = y_train[p]"
      ]
    },
    {
      "cell_type": "markdown",
      "metadata": {
        "id": "1AWhN-IIQsi_"
      },
      "source": [
        "#### 2. Building and training a simple CNN model:"
      ]
    },
    {
      "cell_type": "code",
      "execution_count": 14,
      "metadata": {
        "colab": {
          "base_uri": "https://localhost:8080/"
        },
        "id": "6EfSG7ZqQjzo",
        "outputId": "64c0f36a-969e-4efd-e8ad-718b9ad2c38d"
      },
      "outputs": [
        {
          "name": "stdout",
          "output_type": "stream",
          "text": [
            "╒══════════════╤═══════════════╤═════════════════╤════════════════════╕\n",
            "│ LAYER NAME   │ INPUT SHAPE   │ OUTPUT SHAPE    │   TRAINABLE PARAMS │\n",
            "╞══════════════╪═══════════════╪═════════════════╪════════════════════╡\n",
            "│ TOTAL        │               │                 │                  0 │\n",
            "╘══════════════╧═══════════════╧═════════════════╧════════════════════╛\n"
          ]
        }
      ],
      "source": [
        "# define the model:\n",
        "cnn = network.Net()\n",
        "# get the model structure overview (at the moment empty):\n",
        "cnn.summary()"
      ]
    },
    {
      "cell_type": "code",
      "execution_count": 15,
      "metadata": {
        "id": "EYiWzw5Ukngs"
      },
      "outputs": [],
      "source": [
        "cnn.add(layer.Convolutional(input_shape=(32,32,3),filters=16,filter_size=3,stride=1,pad=1))\n",
        "cnn.add(layer.Activation('relu'))\n",
        "cnn.add(layer.MaxPooling(input_shape=(32,32,16)))\n",
        "\n",
        "cnn.add(layer.Convolutional(input_shape=(16,16,16),filters=16,filter_size=3,stride=1,pad=1))\n",
        "cnn.add(layer.Activation('relu'))\n",
        "cnn.add(layer.MaxPooling(input_shape=(16,16,16)))\n",
        "\n",
        "cnn.add(layer.Convolutional(input_shape=(8,8,16),filters=32,filter_size=3,stride=1,pad=1))\n",
        "cnn.add(layer.Activation('leakyrelu'))\n",
        "cnn.add(layer.MaxPooling(input_shape=(8,8,32)))\n",
        "\n",
        "cnn.add(layer.Flatten(input_shape=(4,4,32)))\n",
        "cnn.add(layer.Dense(units_in=512,units_out=10,initial_Wvar=2/512))\n",
        "cnn.add(layer.Activation('softmax'))"
      ]
    },
    {
      "cell_type": "code",
      "execution_count": 16,
      "metadata": {
        "colab": {
          "base_uri": "https://localhost:8080/"
        },
        "id": "Xuvk5QWXmEMy",
        "outputId": "b06e9a13-e933-4cc5-876e-ab1c233ddc05"
      },
      "outputs": [
        {
          "name": "stdout",
          "output_type": "stream",
          "text": [
            "╒═══════════════════════╤═══════════════╤═════════════════╤════════════════════╕\n",
            "│ LAYER NAME            │ INPUT SHAPE   │ OUTPUT SHAPE    │   TRAINABLE PARAMS │\n",
            "╞═══════════════════════╪═══════════════╪═════════════════╪════════════════════╡\n",
            "│ Convolutional         │ (32, 32, 3)   │ (32, 32, 16)    │                432 │\n",
            "├───────────────────────┼───────────────┼─────────────────┼────────────────────┤\n",
            "│ Activation: relu      │ _             │ _               │                  0 │\n",
            "├───────────────────────┼───────────────┼─────────────────┼────────────────────┤\n",
            "│ MaxPooling            │ (32, 32, 16)  │ (16, 16, 16)    │                  0 │\n",
            "├───────────────────────┼───────────────┼─────────────────┼────────────────────┤\n",
            "│ Convolutional         │ (16, 16, 16)  │ (16, 16, 16)    │               2304 │\n",
            "├───────────────────────┼───────────────┼─────────────────┼────────────────────┤\n",
            "│ Activation: relu      │ _             │ _               │                  0 │\n",
            "├───────────────────────┼───────────────┼─────────────────┼────────────────────┤\n",
            "│ MaxPooling            │ (16, 16, 16)  │ (8, 8, 16)      │                  0 │\n",
            "├───────────────────────┼───────────────┼─────────────────┼────────────────────┤\n",
            "│ Convolutional         │ (8, 8, 16)    │ (8, 8, 32)      │               4608 │\n",
            "├───────────────────────┼───────────────┼─────────────────┼────────────────────┤\n",
            "│ Activation: leakyrelu │ _             │ _               │                  0 │\n",
            "├───────────────────────┼───────────────┼─────────────────┼────────────────────┤\n",
            "│ MaxPooling            │ (8, 8, 32)    │ (4, 4, 32)      │                  0 │\n",
            "├───────────────────────┼───────────────┼─────────────────┼────────────────────┤\n",
            "│ Flatten               │ (4, 4, 32)    │ (512, 1)        │                  0 │\n",
            "├───────────────────────┼───────────────┼─────────────────┼────────────────────┤\n",
            "│ Dense                 │ (512, 1)      │ (10, 1)         │               5130 │\n",
            "├───────────────────────┼───────────────┼─────────────────┼────────────────────┤\n",
            "│ Activation: softmax   │ _             │ _               │                  0 │\n",
            "├───────────────────────┼───────────────┼─────────────────┼────────────────────┤\n",
            "│ TOTAL                 │               │                 │              12474 │\n",
            "╘═══════════════════════╧═══════════════╧═════════════════╧════════════════════╛\n"
          ]
        }
      ],
      "source": [
        "cnn.summary()"
      ]
    },
    {
      "cell_type": "code",
      "execution_count": 17,
      "metadata": {
        "colab": {
          "base_uri": "https://localhost:8080/",
          "height": 1000
        },
        "id": "d4J6eHzwlm2A",
        "outputId": "194cd277-433e-49b9-adf9-12573054ab52"
      },
      "outputs": [
        {
          "name": "stderr",
          "output_type": "stream",
          "text": [
            "100%|████████████████████████████████████████████████████████| 40000/40000 [01:26<00:00, 462.82it/s]\n"
          ]
        },
        {
          "name": "stdout",
          "output_type": "stream",
          "text": [
            "Epoch: 0, train_loss: 2.30279565, train_acc.: 9.98%, val_loss: 2.30276863, val_acc.: 9.35%\n"
          ]
        },
        {
          "name": "stderr",
          "output_type": "stream",
          "text": [
            "100%|████████████████████████████████████████████████████████| 40000/40000 [01:25<00:00, 468.54it/s]\n"
          ]
        },
        {
          "name": "stdout",
          "output_type": "stream",
          "text": [
            "Epoch: 1, train_loss: 2.25145657, train_acc.: 14.385%, val_loss: 2.11322195, val_acc.: 24.56%\n"
          ]
        },
        {
          "name": "stderr",
          "output_type": "stream",
          "text": [
            "100%|████████████████████████████████████████████████████████| 40000/40000 [02:19<00:00, 286.27it/s]\n"
          ]
        },
        {
          "name": "stdout",
          "output_type": "stream",
          "text": [
            "Epoch: 2, train_loss: 1.87873878, train_acc.: 32.6525%, val_loss: 1.68447345, val_acc.: 39.26%\n"
          ]
        },
        {
          "name": "stderr",
          "output_type": "stream",
          "text": [
            "100%|████████████████████████████████████████████████████████| 40000/40000 [01:59<00:00, 334.24it/s]\n"
          ]
        },
        {
          "name": "stdout",
          "output_type": "stream",
          "text": [
            "Epoch: 3, train_loss: 1.6385927, train_acc.: 42.1575%, val_loss: 1.5431188, val_acc.: 44.44%\n"
          ]
        },
        {
          "name": "stderr",
          "output_type": "stream",
          "text": [
            "100%|████████████████████████████████████████████████████████| 40000/40000 [01:30<00:00, 442.34it/s]\n"
          ]
        },
        {
          "name": "stdout",
          "output_type": "stream",
          "text": [
            "Epoch: 4, train_loss: 1.53443763, train_acc.: 45.685%, val_loss: 1.46960023, val_acc.: 47.75%\n"
          ]
        },
        {
          "name": "stderr",
          "output_type": "stream",
          "text": [
            "100%|████████████████████████████████████████████████████████| 40000/40000 [01:32<00:00, 434.14it/s]\n"
          ]
        },
        {
          "name": "stdout",
          "output_type": "stream",
          "text": [
            "Epoch: 5, train_loss: 1.44286614, train_acc.: 48.7525%, val_loss: 1.38825913, val_acc.: 50.38%\n"
          ]
        },
        {
          "name": "stderr",
          "output_type": "stream",
          "text": [
            "100%|████████████████████████████████████████████████████████| 40000/40000 [01:29<00:00, 449.16it/s]\n"
          ]
        },
        {
          "name": "stdout",
          "output_type": "stream",
          "text": [
            "Epoch: 6, train_loss: 1.34948504, train_acc.: 52.185%, val_loss: 1.29804491, val_acc.: 53.89%\n"
          ]
        },
        {
          "name": "stderr",
          "output_type": "stream",
          "text": [
            "100%|████████████████████████████████████████████████████████| 40000/40000 [01:27<00:00, 456.76it/s]\n"
          ]
        },
        {
          "name": "stdout",
          "output_type": "stream",
          "text": [
            "Epoch: 7, train_loss: 1.25779861, train_acc.: 55.4675%, val_loss: 1.21699783, val_acc.: 57.26%\n"
          ]
        },
        {
          "name": "stderr",
          "output_type": "stream",
          "text": [
            "100%|████████████████████████████████████████████████████████| 40000/40000 [01:32<00:00, 432.74it/s]\n"
          ]
        },
        {
          "name": "stdout",
          "output_type": "stream",
          "text": [
            "Epoch: 8, train_loss: 1.18021684, train_acc.: 58.5425%, val_loss: 1.16914031, val_acc.: 59.18%\n"
          ]
        },
        {
          "name": "stderr",
          "output_type": "stream",
          "text": [
            "100%|████████████████████████████████████████████████████████| 40000/40000 [01:28<00:00, 450.45it/s]\n"
          ]
        },
        {
          "name": "stdout",
          "output_type": "stream",
          "text": [
            "Epoch: 9, train_loss: 1.12047893, train_acc.: 60.805%, val_loss: 1.13669017, val_acc.: 60.36%\n"
          ]
        },
        {
          "name": "stderr",
          "output_type": "stream",
          "text": [
            "100%|████████████████████████████████████████████████████████| 40000/40000 [01:24<00:00, 470.65it/s]\n"
          ]
        },
        {
          "name": "stdout",
          "output_type": "stream",
          "text": [
            "Epoch: 10, train_loss: 1.07306544, train_acc.: 62.5975%, val_loss: 1.10104095, val_acc.: 61.93%\n"
          ]
        },
        {
          "name": "stderr",
          "output_type": "stream",
          "text": [
            "100%|████████████████████████████████████████████████████████| 40000/40000 [01:28<00:00, 453.43it/s]\n"
          ]
        },
        {
          "name": "stdout",
          "output_type": "stream",
          "text": [
            "Epoch: 11, train_loss: 1.03524657, train_acc.: 63.8575%, val_loss: 1.06594208, val_acc.: 63.13%\n"
          ]
        },
        {
          "name": "stderr",
          "output_type": "stream",
          "text": [
            "100%|████████████████████████████████████████████████████████| 40000/40000 [01:28<00:00, 454.46it/s]\n"
          ]
        },
        {
          "name": "stdout",
          "output_type": "stream",
          "text": [
            "Epoch: 12, train_loss: 1.00314415, train_acc.: 65.165%, val_loss: 1.06689035, val_acc.: 63.21%\n"
          ]
        },
        {
          "name": "stderr",
          "output_type": "stream",
          "text": [
            "100%|████████████████████████████████████████████████████████| 40000/40000 [01:29<00:00, 448.84it/s]\n"
          ]
        },
        {
          "name": "stdout",
          "output_type": "stream",
          "text": [
            "Epoch: 13, train_loss: 0.97524423, train_acc.: 66.09%, val_loss: 1.06570628, val_acc.: 63.39%\n"
          ]
        },
        {
          "name": "stderr",
          "output_type": "stream",
          "text": [
            "100%|████████████████████████████████████████████████████████| 40000/40000 [01:25<00:00, 466.74it/s]\n"
          ]
        },
        {
          "name": "stdout",
          "output_type": "stream",
          "text": [
            "Epoch: 14, train_loss: 0.95160863, train_acc.: 66.9625%, val_loss: 1.05901477, val_acc.: 63.89%\n"
          ]
        },
        {
          "name": "stderr",
          "output_type": "stream",
          "text": [
            "100%|████████████████████████████████████████████████████████| 40000/40000 [02:01<00:00, 329.90it/s]\n"
          ]
        },
        {
          "name": "stdout",
          "output_type": "stream",
          "text": [
            "Epoch: 15, train_loss: 0.93076128, train_acc.: 67.72%, val_loss: 1.06879093, val_acc.: 63.57%\n"
          ]
        },
        {
          "name": "stderr",
          "output_type": "stream",
          "text": [
            "100%|████████████████████████████████████████████████████████| 40000/40000 [01:26<00:00, 463.25it/s]\n"
          ]
        },
        {
          "name": "stdout",
          "output_type": "stream",
          "text": [
            "Epoch: 16, train_loss: 0.91358984, train_acc.: 68.3125%, val_loss: 1.06572689, val_acc.: 63.71%\n"
          ]
        },
        {
          "name": "stderr",
          "output_type": "stream",
          "text": [
            "100%|████████████████████████████████████████████████████████| 40000/40000 [01:25<00:00, 470.20it/s]\n"
          ]
        },
        {
          "name": "stdout",
          "output_type": "stream",
          "text": [
            "Epoch: 17, train_loss: 0.8964361, train_acc.: 68.795%, val_loss: 1.0644935, val_acc.: 63.92%\n"
          ]
        },
        {
          "name": "stderr",
          "output_type": "stream",
          "text": [
            "100%|████████████████████████████████████████████████████████| 40000/40000 [01:36<00:00, 416.07it/s]\n"
          ]
        },
        {
          "name": "stdout",
          "output_type": "stream",
          "text": [
            "Epoch: 18, train_loss: 0.88240891, train_acc.: 69.195%, val_loss: 1.04507481, val_acc.: 64.65%\n"
          ]
        },
        {
          "name": "stderr",
          "output_type": "stream",
          "text": [
            "100%|████████████████████████████████████████████████████████| 40000/40000 [01:51<00:00, 357.72it/s]\n"
          ]
        },
        {
          "name": "stdout",
          "output_type": "stream",
          "text": [
            "Epoch: 19, train_loss: 0.86857083, train_acc.: 69.7325%, val_loss: 1.05014009, val_acc.: 64.44%\n"
          ]
        }
      ],
      "source": [
        "cnn.train(rand_x_tr, rand_y_tr, epochs=20, learn_rate=0.001, val_size=0.2)"
      ]
    },
    {
      "cell_type": "code",
      "execution_count": 18,
      "metadata": {
        "id": "KdyI6PhWKG3Z"
      },
      "outputs": [],
      "source": [
        "# function to predict new inputs:\n",
        "def predict(model, X):\n",
        "  y_pred = np.array([])\n",
        "  for i in range(X.shape[0]):\n",
        "    p = model.forwardpass(X[i])\n",
        "    y_pred = np.append(y_pred, np.argmax(p))\n",
        "  return y_pred.astype('int64')\n",
        "\n",
        "# function to check similarity percentage between two arrays, i.e. vectorized accuracy calculation:\n",
        "def get_acc(y_test, y_pred):\n",
        "  diff = y_test - y_pred\n",
        "  correct_preds = diff[diff==0].shape[0]\n",
        "  acc = correct_preds*100/y_test.shape[0]\n",
        "  print(f'Test Accuracy: {acc}%')"
      ]
    },
    {
      "cell_type": "code",
      "execution_count": 19,
      "metadata": {
        "id": "6zLxIbWvLoYT"
      },
      "outputs": [
        {
          "name": "stdout",
          "output_type": "stream",
          "text": [
            "Test Accuracy: 64.9%\n"
          ]
        }
      ],
      "source": [
        "# predict with test data:\n",
        "y_pred = predict(cnn, x_test_scaled)\n",
        "get_acc(y_test, y_pred)"
      ]
    },
    {
      "cell_type": "code",
      "execution_count": 26,
      "metadata": {
        "colab": {
          "base_uri": "https://localhost:8080/",
          "height": 443
        },
        "id": "D01GZ56sOBry",
        "outputId": "73aaeb83-8fa6-48ea-d5ba-822a0c05f3d5"
      },
      "outputs": [
        {
          "data": {
            "image/png": "[encoded data removed]",
            "text/plain": [
              "<Figure size 640x480 with 6 Axes>"
            ]
          },
          "metadata": {},
          "output_type": "display_data"
        }
      ],
      "source": [
        "# plot images with predictions:\n",
        "plot_6(x_test.astype(int), y_test.astype(int), y_hat=y_pred)"
      ]
    }
  ],
  "metadata": {
    "accelerator": "GPU",
    "colab": {
      "authorship_tag": "ABX9TyM5+d31hYMP66zK4nao6BoY",
      "gpuType": "V100",
      "include_colab_link": true,
      "provenance": [],
      "toc_visible": true
    },
    "kernelspec": {
      "display_name": "codeVenv",
      "language": "python",
      "name": "codevenv"
    },
    "language_info": {
      "codemirror_mode": {
        "name": "ipython",
        "version": 3
      },
      "file_extension": ".py",
      "mimetype": "text/x-python",
      "name": "python",
      "nbconvert_exporter": "python",
      "pygments_lexer": "ipython3",
      "version": "3.10.11"
    }
  },
  "nbformat": 4,
  "nbformat_minor": 0
}
